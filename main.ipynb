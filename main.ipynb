{
 "cells": [
  {
   "cell_type": "markdown",
   "metadata": {},
   "source": [
    "## implementation of LSA(latent semantic analysis)"
   ]
  },
  {
   "cell_type": "code",
   "execution_count": 4,
   "metadata": {
    "ExecuteTime": {
     "end_time": "2018-10-01T07:30:09.530022Z",
     "start_time": "2018-10-01T07:30:09.525021Z"
    }
   },
   "outputs": [],
   "source": [
    "import numpy as np\n",
    "import pandas as pd\n",
    "import matplotlib.pyplot as plt\n",
    "import seaborn as sns\n",
    "pd.set_option('display.max_colwidth',200)"
   ]
  },
  {
   "cell_type": "code",
   "execution_count": 5,
   "metadata": {
    "ExecuteTime": {
     "end_time": "2018-10-01T07:30:50.168110Z",
     "start_time": "2018-10-01T07:30:50.163111Z"
    }
   },
   "outputs": [],
   "source": [
    "from sklearn.datasets import fetch_20newsgroups"
   ]
  },
  {
   "cell_type": "code",
   "execution_count": 7,
   "metadata": {
    "ExecuteTime": {
     "end_time": "2018-10-01T07:38:40.280049Z",
     "start_time": "2018-10-01T07:38:37.388087Z"
    }
   },
   "outputs": [
    {
     "data": {
      "text/plain": [
       "11314"
      ]
     },
     "execution_count": 7,
     "metadata": {},
     "output_type": "execute_result"
    }
   ],
   "source": [
    "dataset=fetch_20newsgroups(shuffle=True,random_state=1,\n",
    "                           remove=('header','footers','quotes'))\n",
    "documents=dataset.data\n",
    "len(documents)"
   ]
  },
  {
   "cell_type": "code",
   "execution_count": 8,
   "metadata": {
    "ExecuteTime": {
     "end_time": "2018-10-01T07:38:42.594651Z",
     "start_time": "2018-10-01T07:38:42.586652Z"
    }
   },
   "outputs": [
    {
     "data": {
      "text/plain": [
       "['alt.atheism',\n",
       " 'comp.graphics',\n",
       " 'comp.os.ms-windows.misc',\n",
       " 'comp.sys.ibm.pc.hardware',\n",
       " 'comp.sys.mac.hardware',\n",
       " 'comp.windows.x',\n",
       " 'misc.forsale',\n",
       " 'rec.autos',\n",
       " 'rec.motorcycles',\n",
       " 'rec.sport.baseball',\n",
       " 'rec.sport.hockey',\n",
       " 'sci.crypt',\n",
       " 'sci.electronics',\n",
       " 'sci.med',\n",
       " 'sci.space',\n",
       " 'soc.religion.christian',\n",
       " 'talk.politics.guns',\n",
       " 'talk.politics.mideast',\n",
       " 'talk.politics.misc',\n",
       " 'talk.religion.misc']"
      ]
     },
     "execution_count": 8,
     "metadata": {},
     "output_type": "execute_result"
    }
   ],
   "source": [
    "dataset.target_names"
   ]
  },
  {
   "cell_type": "markdown",
   "metadata": {},
   "source": [
    "### data preprocessing"
   ]
  },
  {
   "cell_type": "code",
   "execution_count": 9,
   "metadata": {
    "ExecuteTime": {
     "end_time": "2018-10-01T07:52:00.233965Z",
     "start_time": "2018-10-01T07:51:59.812186Z"
    }
   },
   "outputs": [
    {
     "data": {
      "text/html": [
       "<div>\n",
       "<style scoped>\n",
       "    .dataframe tbody tr th:only-of-type {\n",
       "        vertical-align: middle;\n",
       "    }\n",
       "\n",
       "    .dataframe tbody tr th {\n",
       "        vertical-align: top;\n",
       "    }\n",
       "\n",
       "    .dataframe thead th {\n",
       "        text-align: right;\n",
       "    }\n",
       "</style>\n",
       "<table border=\"1\" class=\"dataframe\">\n",
       "  <thead>\n",
       "    <tr style=\"text-align: right;\">\n",
       "      <th></th>\n",
       "      <th>document</th>\n",
       "    </tr>\n",
       "  </thead>\n",
       "  <tbody>\n",
       "    <tr>\n",
       "      <th>0</th>\n",
       "      <td>From: ab4z@Virginia.EDU (\"Andi Beyer\")\\nSubject: Re: Israeli Terrorism\\nOrganization: University of Virginia\\nLines: 15</td>\n",
       "    </tr>\n",
       "    <tr>\n",
       "      <th>1</th>\n",
       "      <td>From: timmbake@mcl.ucsb.edu (Bake Timmons)\\nSubject: Re: Amusing atheists and agnostics\\nLines: 66\\n\\n\\n\\n\\n\\n\\n\\n\\n\\nYeah, do you expect people to read the FAQ, etc. and actually accept hard\\nath...</td>\n",
       "    </tr>\n",
       "    <tr>\n",
       "      <th>2</th>\n",
       "      <td>From: bc744@cleveland.Freenet.Edu (Mark Ira Kaufman)\\nSubject: Re: rejoinder. Questions to Israelis\\nOrganization: Case Western Reserve University, Cleveland, Ohio (USA)\\nLines: 38\\nNNTP-Posting-H...</td>\n",
       "    </tr>\n",
       "    <tr>\n",
       "      <th>3</th>\n",
       "      <td>From: ray@ole.cdac.com (Ray Berry)\\nSubject: Clipper- business as usual?\\nArticle-I.D.: ole.1993Apr20.173039.4722\\nOrganization: Cascade Design Automation\\nLines: 17\\n\\n\\n    Notwithstanding all t...</td>\n",
       "    </tr>\n",
       "    <tr>\n",
       "      <th>4</th>\n",
       "      <td>From: kkeller@mail.sas.upenn.edu (Keith Keller)\\nSubject: Playoff pool rule revision\\nOrganization: University of Pennsylvania, School of Arts and Sciences\\nLines: 10\\nNntp-Posting-Host: mail.sas....</td>\n",
       "    </tr>\n",
       "  </tbody>\n",
       "</table>\n",
       "</div>"
      ],
      "text/plain": [
       "                                                                                                                                                                                                  document\n",
       "0                                                                                  From: ab4z@Virginia.EDU (\"Andi Beyer\")\\nSubject: Re: Israeli Terrorism\\nOrganization: University of Virginia\\nLines: 15\n",
       "1  From: timmbake@mcl.ucsb.edu (Bake Timmons)\\nSubject: Re: Amusing atheists and agnostics\\nLines: 66\\n\\n\\n\\n\\n\\n\\n\\n\\n\\nYeah, do you expect people to read the FAQ, etc. and actually accept hard\\nath...\n",
       "2  From: bc744@cleveland.Freenet.Edu (Mark Ira Kaufman)\\nSubject: Re: rejoinder. Questions to Israelis\\nOrganization: Case Western Reserve University, Cleveland, Ohio (USA)\\nLines: 38\\nNNTP-Posting-H...\n",
       "3  From: ray@ole.cdac.com (Ray Berry)\\nSubject: Clipper- business as usual?\\nArticle-I.D.: ole.1993Apr20.173039.4722\\nOrganization: Cascade Design Automation\\nLines: 17\\n\\n\\n    Notwithstanding all t...\n",
       "4  From: kkeller@mail.sas.upenn.edu (Keith Keller)\\nSubject: Playoff pool rule revision\\nOrganization: University of Pennsylvania, School of Arts and Sciences\\nLines: 10\\nNntp-Posting-Host: mail.sas...."
      ]
     },
     "execution_count": 9,
     "metadata": {},
     "output_type": "execute_result"
    }
   ],
   "source": [
    "news_df=pd.DataFrame({'document':documents})\n",
    "\n",
    "news_df.head()"
   ]
  },
  {
   "cell_type": "code",
   "execution_count": 10,
   "metadata": {
    "ExecuteTime": {
     "end_time": "2018-10-01T07:53:35.796307Z",
     "start_time": "2018-10-01T07:53:34.060262Z"
    }
   },
   "outputs": [],
   "source": [
    "#remove everything except alphabets\n",
    "news_df['clean_doc']=news_df['document'].str.replace(\"[^a-zA-Z#]\",\" \")"
   ]
  },
  {
   "cell_type": "code",
   "execution_count": 11,
   "metadata": {
    "ExecuteTime": {
     "end_time": "2018-10-01T07:55:06.750049Z",
     "start_time": "2018-10-01T07:55:06.092336Z"
    }
   },
   "outputs": [],
   "source": [
    "#remove short words\n",
    "news_df['clean_doc']=news_df['clean_doc'].apply(\n",
    "                lambda x:' '.join([w for w in x.split() if len(w)>3]))"
   ]
  },
  {
   "cell_type": "code",
   "execution_count": 12,
   "metadata": {
    "ExecuteTime": {
     "end_time": "2018-10-01T07:55:39.067261Z",
     "start_time": "2018-10-01T07:55:39.038260Z"
    }
   },
   "outputs": [],
   "source": [
    "#make all text lowercase\n",
    "news_df['clean_doc']=news_df['clean_doc'].apply(lambda x:x.lower())"
   ]
  },
  {
   "cell_type": "markdown",
   "metadata": {},
   "source": [
    "#### remove stopwords"
   ]
  },
  {
   "cell_type": "code",
   "execution_count": 13,
   "metadata": {
    "ExecuteTime": {
     "end_time": "2018-10-01T07:57:11.017225Z",
     "start_time": "2018-10-01T07:57:11.013225Z"
    }
   },
   "outputs": [],
   "source": [
    "from nltk.corpus import stopwords"
   ]
  },
  {
   "cell_type": "code",
   "execution_count": 16,
   "metadata": {
    "ExecuteTime": {
     "end_time": "2018-10-01T08:02:10.708774Z",
     "start_time": "2018-10-01T08:02:08.966265Z"
    }
   },
   "outputs": [
    {
     "name": "stdout",
     "output_type": "stream",
     "text": [
      "[nltk_data] Downloading package stopwords to\n",
      "[nltk_data]     C:\\Users\\MY\\AppData\\Roaming\\nltk_data...\n",
      "[nltk_data]   Unzipping corpora\\stopwords.zip.\n"
     ]
    },
    {
     "data": {
      "text/plain": [
       "True"
      ]
     },
     "execution_count": 16,
     "metadata": {},
     "output_type": "execute_result"
    }
   ],
   "source": [
    "import nltk\n",
    "nltk.download('stopwords')"
   ]
  },
  {
   "cell_type": "code",
   "execution_count": 17,
   "metadata": {
    "ExecuteTime": {
     "end_time": "2018-10-01T08:02:14.879264Z",
     "start_time": "2018-10-01T08:02:14.870265Z"
    }
   },
   "outputs": [],
   "source": [
    "stop_words=stopwords.words('english')"
   ]
  },
  {
   "cell_type": "code",
   "execution_count": 18,
   "metadata": {
    "ExecuteTime": {
     "end_time": "2018-10-01T08:03:23.671586Z",
     "start_time": "2018-10-01T08:03:23.428590Z"
    }
   },
   "outputs": [],
   "source": [
    "#tokenization\n",
    "tokenized_doc=news_df['clean_doc'].apply(lambda x:x.split())"
   ]
  },
  {
   "cell_type": "code",
   "execution_count": 19,
   "metadata": {
    "ExecuteTime": {
     "end_time": "2018-10-01T08:04:27.965762Z",
     "start_time": "2018-10-01T08:04:23.116818Z"
    }
   },
   "outputs": [],
   "source": [
    "#remove stop-words\n",
    "tokenized_doc=tokenized_doc.apply(lambda x:\n",
    "                        [item for item in x if item not in stop_words])"
   ]
  },
  {
   "cell_type": "code",
   "execution_count": 20,
   "metadata": {
    "ExecuteTime": {
     "end_time": "2018-10-01T08:06:34.842293Z",
     "start_time": "2018-10-01T08:06:34.381298Z"
    }
   },
   "outputs": [],
   "source": [
    "#de-tokenization\n",
    "detokenized_doc=[]\n",
    "for i in range(len(news_df)):\n",
    "    t=' '.join(tokenized_doc[i])\n",
    "    detokenized_doc.append(t)\n",
    "    \n",
    "news_df['clean_doc']=detokenized_doc"
   ]
  },
  {
   "cell_type": "markdown",
   "metadata": {},
   "source": [
    "### document-term matrix"
   ]
  },
  {
   "cell_type": "code",
   "execution_count": 21,
   "metadata": {
    "ExecuteTime": {
     "end_time": "2018-10-01T08:31:57.975809Z",
     "start_time": "2018-10-01T08:31:57.971809Z"
    }
   },
   "outputs": [],
   "source": [
    "from sklearn.feature_extraction.text import TfidfVectorizer"
   ]
  },
  {
   "cell_type": "code",
   "execution_count": 22,
   "metadata": {
    "ExecuteTime": {
     "end_time": "2018-10-01T08:33:03.568471Z",
     "start_time": "2018-10-01T08:33:03.564468Z"
    }
   },
   "outputs": [],
   "source": [
    "#keep top 1000 terms\n",
    "vectorizer=TfidfVectorizer(stop_words='english',\n",
    "                           max_features=1000,max_df=0.5,smooth_idf=True)"
   ]
  },
  {
   "cell_type": "code",
   "execution_count": 23,
   "metadata": {
    "ExecuteTime": {
     "end_time": "2018-10-01T08:33:24.543933Z",
     "start_time": "2018-10-01T08:33:22.268779Z"
    },
    "run_control": {
     "marked": false
    }
   },
   "outputs": [
    {
     "data": {
      "text/plain": [
       "(11314, 1000)"
      ]
     },
     "execution_count": 23,
     "metadata": {},
     "output_type": "execute_result"
    }
   ],
   "source": [
    "X=vectorizer.fit_transform(news_df['clean_doc'])\n",
    "X.shape"
   ]
  },
  {
   "cell_type": "markdown",
   "metadata": {
    "run_control": {
     "marked": false
    }
   },
   "source": [
    "### topic modeling"
   ]
  },
  {
   "cell_type": "code",
   "execution_count": 27,
   "metadata": {
    "ExecuteTime": {
     "end_time": "2018-10-01T12:59:26.617424Z",
     "start_time": "2018-10-01T12:59:26.608423Z"
    }
   },
   "outputs": [],
   "source": [
    "from sklearn.decomposition import TruncatedSVD"
   ]
  },
  {
   "cell_type": "code",
   "execution_count": 28,
   "metadata": {
    "ExecuteTime": {
     "end_time": "2018-10-01T13:01:16.312192Z",
     "start_time": "2018-10-01T13:01:08.672598Z"
    }
   },
   "outputs": [
    {
     "data": {
      "text/plain": [
       "20"
      ]
     },
     "execution_count": 28,
     "metadata": {},
     "output_type": "execute_result"
    }
   ],
   "source": [
    "#SVD represent documents and terms in vectors\n",
    "svd_model=TruncatedSVD(n_components=20,algorithm='randomized',\n",
    "                       n_iter=100,random_state=122)\n",
    "svd_model.fit(X)\n",
    "len(svd_model.components_)"
   ]
  },
  {
   "cell_type": "code",
   "execution_count": 29,
   "metadata": {
    "ExecuteTime": {
     "end_time": "2018-10-01T13:19:37.407350Z",
     "start_time": "2018-10-01T13:19:37.337352Z"
    },
    "scrolled": true
   },
   "outputs": [
    {
     "name": "stdout",
     "output_type": "stream",
     "text": [
      "Topic 0: \n",
      "posting\n",
      " \n",
      "host\n",
      " \n",
      "nntp\n",
      " \n",
      "university\n",
      " \n",
      "distribution\n",
      " \n",
      "like\n",
      " \n",
      "reply\n",
      " \n",
      "Topic 1: \n",
      "nntp\n",
      " \n",
      "host\n",
      " \n",
      "posting\n",
      " \n",
      "university\n",
      " \n",
      "distribution\n",
      " \n",
      "reply\n",
      " \n",
      "cwru\n",
      " \n",
      "Topic 2: \n",
      "windows\n",
      " \n",
      "card\n",
      " \n",
      "file\n",
      " \n",
      "thanks\n",
      " \n",
      "drive\n",
      " \n",
      "help\n",
      " \n",
      "files\n",
      " \n",
      "Topic 3: \n",
      "university\n",
      " \n",
      "state\n",
      " \n",
      "ohio\n",
      " \n",
      "cleveland\n",
      " \n",
      "virginia\n",
      " \n",
      "pitt\n",
      " \n",
      "cwru\n",
      " \n",
      "Topic 4: \n",
      "pitt\n",
      " \n",
      "gordon\n",
      " \n",
      "banks\n",
      " \n",
      "computer\n",
      " \n",
      "science\n",
      " \n",
      "pittsburgh\n",
      " \n",
      "reply\n",
      " \n",
      "Topic 5: \n",
      "cleveland\n",
      " \n",
      "cwru\n",
      " \n",
      "freenet\n",
      " \n",
      "reserve\n",
      " \n",
      "western\n",
      " \n",
      "case\n",
      " \n",
      "pitt\n",
      " \n",
      "Topic 6: \n",
      "nasa\n",
      " \n",
      "state\n",
      " \n",
      "access\n",
      " \n",
      "ohio\n",
      " \n",
      "space\n",
      " \n",
      "cleveland\n",
      " \n",
      "distribution\n",
      " \n",
      "Topic 7: \n",
      "nasa\n",
      " \n",
      "space\n",
      " \n",
      "cleveland\n",
      " \n",
      "cwru\n",
      " \n",
      "team\n",
      " \n",
      "freenet\n",
      " \n",
      "game\n",
      " \n",
      "Topic 8: \n",
      "access\n",
      " \n",
      "sale\n",
      " \n",
      "drive\n",
      " \n",
      "digex\n",
      " \n",
      "game\n",
      " \n",
      "netcom\n",
      " \n",
      "team\n",
      " \n",
      "Topic 9: \n",
      "access\n",
      " \n",
      "windows\n",
      " \n",
      "digex\n",
      " \n",
      "virginia\n",
      " \n",
      "team\n",
      " \n",
      "unix\n",
      " \n",
      "university\n",
      " \n",
      "Topic 10: \n",
      "world\n",
      " \n",
      "distribution\n",
      " \n",
      "virginia\n",
      " \n",
      "reply\n",
      " \n",
      "jesus\n",
      " \n",
      "sale\n",
      " \n",
      "drive\n",
      " \n",
      "Topic 11: \n",
      "access\n",
      " \n",
      "drive\n",
      " \n",
      "digex\n",
      " \n",
      "state\n",
      " \n",
      "nasa\n",
      " \n",
      "scsi\n",
      " \n",
      "space\n",
      " \n",
      "Topic 12: \n",
      "virginia\n",
      " \n",
      "university\n",
      " \n",
      "space\n",
      " \n",
      "clipper\n",
      " \n",
      "chip\n",
      " \n",
      "drive\n",
      " \n",
      "uiuc\n",
      " \n",
      "Topic 13: \n",
      "caltech\n",
      " \n",
      "institute\n",
      " \n",
      "technology\n",
      " \n",
      "sale\n",
      " \n",
      "keith\n",
      " \n",
      "california\n",
      " \n",
      "virginia\n",
      " \n",
      "Topic 14: \n",
      "netcom\n",
      " \n",
      "services\n",
      " \n",
      "guest\n",
      " \n",
      "sale\n",
      " \n",
      "communication\n",
      " \n",
      "online\n",
      " \n",
      "line\n",
      " \n",
      "Topic 15: \n",
      "netcom\n",
      " \n",
      "drive\n",
      " \n",
      "caltech\n",
      " \n",
      "uiuc\n",
      " \n",
      "university\n",
      " \n",
      "scsi\n",
      " \n",
      "illinois\n",
      " \n",
      "Topic 16: \n",
      "virginia\n",
      " \n",
      "netcom\n",
      " \n",
      "windows\n",
      " \n",
      "world\n",
      " \n",
      "distribution\n",
      " \n",
      "drive\n",
      " \n",
      "state\n",
      " \n",
      "Topic 17: \n",
      "card\n",
      " \n",
      "windows\n",
      " \n",
      "video\n",
      " \n",
      "uiuc\n",
      " \n",
      "illinois\n",
      " \n",
      "drivers\n",
      " \n",
      "people\n",
      " \n",
      "Topic 18: \n",
      "computer\n",
      " \n",
      "card\n",
      " \n",
      "science\n",
      " \n",
      "video\n",
      " \n",
      "department\n",
      " \n",
      "netcom\n",
      " \n",
      "virginia\n",
      " \n",
      "Topic 19: \n",
      "computer\n",
      " \n",
      "sale\n",
      " \n",
      "windows\n",
      " \n",
      "colorado\n",
      " \n",
      "science\n",
      " \n",
      "department\n",
      " \n",
      "purdue\n",
      " \n"
     ]
    }
   ],
   "source": [
    "terms=vectorizer.get_feature_names()\n",
    "\n",
    "for i,comp in enumerate(svd_model.components_):\n",
    "    terms_comp=zip(terms,comp)\n",
    "    sorted_terms=sorted(terms_comp,key=lambda x:x[1],reverse=True)[:7]\n",
    "    print(f\"Topic {str(i)}: \")\n",
    "    for t in sorted_terms:\n",
    "        print(t[0])\n",
    "        print(\" \")"
   ]
  },
  {
   "cell_type": "markdown",
   "metadata": {},
   "source": [
    "### topic visualization"
   ]
  },
  {
   "cell_type": "code",
   "execution_count": 32,
   "metadata": {
    "ExecuteTime": {
     "end_time": "2018-10-01T13:26:19.097566Z",
     "start_time": "2018-10-01T13:25:53.457623Z"
    }
   },
   "outputs": [],
   "source": [
    "import umap"
   ]
  },
  {
   "cell_type": "code",
   "execution_count": 33,
   "metadata": {
    "ExecuteTime": {
     "end_time": "2018-10-01T13:27:42.753634Z",
     "start_time": "2018-10-01T13:26:19.100568Z"
    }
   },
   "outputs": [
    {
     "data": {
      "image/png": "[encoded data removed]",
      "text/plain": [
       "<Figure size 504x360 with 1 Axes>"
      ]
     },
     "metadata": {},
     "output_type": "display_data"
    }
   ],
   "source": [
    "X_topics=svd_model.fit_transform(X)\n",
    "embedding=umap.UMAP(n_neighbors=150,min_dist=0.5,random_state=12).fit_transform(X_topics)\n",
    "\n",
    "plt.figure(figsize=(7,5))\n",
    "plt.scatter(embedding[:,0],embedding[:,1],c=dataset.target,s=10,edgecolor='none')\n",
    "plt.show()"
   ]
  },
  {
   "cell_type": "code",
   "execution_count": null,
   "metadata": {},
   "outputs": [],
   "source": []
  }
 ],
 "metadata": {
  "kernelspec": {
   "display_name": "Python 3",
   "language": "python",
   "name": "python3"
  },
  "language_info": {
   "codemirror_mode": {
    "name": "ipython",
    "version": 3
   },
   "file_extension": ".py",
   "mimetype": "text/x-python",
   "name": "python",
   "nbconvert_exporter": "python",
   "pygments_lexer": "ipython3",
   "version": "3.6.5"
  }
 },
 "nbformat": 4,
 "nbformat_minor": 2
}
